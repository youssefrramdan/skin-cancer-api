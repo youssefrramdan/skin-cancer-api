import os
import numpy as np
import pandas as pd
import tensorflow as tf
from tensorflow import keras
from tensorflow.keras import layers
from tensorflow.keras.preprocessing.image import ImageDataGenerator
import matplotlib.pyplot as plt
from sklearn.metrics import classification_report, confusion_matrix
import seaborn as sns

data_dir = '/kaggle/input/isic-2019/ISIC_2019_Training_Input/ISIC_2019_Training_Input'
csv_file = '/kaggle/input/isic-2019/ISIC_2019_Training_GroundTruth.csv'
image_size = (224, 224)
batch_size = 32

df = pd.read_csv(csv_file)

df['status'] = df[['MEL', 'BCC', 'SCC', 'AK', 'BKL', 'DF', 'VASC']].sum(axis=1).apply(lambda x: 'Affected' if x > 0 else 'Normal')
df['cancer_type'] = df[['MEL', 'BCC', 'SCC', 'AK', 'BKL', 'DF', 'VASC']].idxmax(axis=1)
df.loc[df['status'] == 'Normal', 'cancer_type'] = 'None'

datagen = ImageDataGenerator(
    rescale=1./255,
    validation_split=0.2,
    rotation_range=40,
    width_shift_range=0.2,
    height_shift_range=0.2,
    shear_range=0.2,
    zoom_range=0.2,
    horizontal_flip=True,
    fill_mode='nearest'
)

train_generator = datagen.flow_from_dataframe(
    dataframe=df,
    directory=data_dir,
    x_col='image',
    y_col='status',
    subset='training',
    batch_size=batch_size,
    seed=42,
    shuffle=True,
    class_mode='categorical',
    target_size=image_size
)

validation_generator = datagen.flow_from_dataframe(
    dataframe=df,
    directory=data_dir,
    x_col='image',
    y_col='status',
    subset='validation',
    batch_size=batch_size,
    seed=42,
    shuffle=True,
    class_mode='categorical',
    target_size=image_size
)

cancer_df = df[df['status'] == 'Affected']
cancer_train_generator = datagen.flow_from_dataframe(
    dataframe=cancer_df,
    directory=data_dir,
    x_col='image',
    y_col='cancer_type',
    subset='training',
    batch_size=batch_size,
    seed=42,
    shuffle=True,
    class_mode='categorical',
    target_size=image_size
)

cancer_validation_generator = datagen.flow_from_dataframe(
    dataframe=cancer_df,
    directory=data_dir,
    x_col='image',
    y_col='cancer_type',
    subset='validation',
    batch_size=batch_size,
    seed=42,
    shuffle=True,
    class_mode='categorical',
    target_size=image_size
)

def create_status_model(input_shape, num_classes):
    model = keras.Sequential([
        layers.Input(shape=input_shape),
        layers.Conv2D(32, (3, 3), activation='relu'),
        layers.BatchNormalization(),
        layers.MaxPooling2D((2, 2)),
        layers.Conv2D(64, (3, 3), activation='relu'),
        layers.BatchNormalization(),
        layers.MaxPooling2D((2, 2)),
        layers.Conv2D(128, (3, 3), activation='relu'),
        layers.BatchNormalization(),
        layers.MaxPooling2D((2, 2)),
        layers.Flatten(),
        layers.Dense(512, activation='relu'),
        layers.Dropout(0.5),
        layers.Dense(num_classes, activation='softmax')
    ])
    return model

def create_cancer_type_model(input_shape, num_classes):
    model = keras.Sequential([
        layers.Input(shape=input_shape),
        layers.Conv2D(32, (3, 3), activation='relu'),
        layers.BatchNormalization(),
        layers.MaxPooling2D((2, 2)),
        layers.Conv2D(64, (3, 3), activation='relu'),
        layers.BatchNormalization(),
        layers.MaxPooling2D((2, 2)),
        layers.Conv2D(128, (3, 3), activation='relu'),
        layers.BatchNormalization(),
        layers.MaxPooling2D((2, 2)),
        layers.Flatten(),
        layers.Dense(512, activation='relu'),
        layers.Dropout(0.5),
        layers.Dense(num_classes, activation='softmax')
    ])
    return model

status_model = create_status_model(input_shape=(224, 224, 3), num_classes=len(train_generator.class_indices))
cancer_type_model = create_cancer_type_model(input_shape=(224, 224, 3), num_classes=len(cancer_train_generator.class_indices))

status_model.compile(optimizer='adam', loss='categorical_crossentropy', metrics=['accuracy'])
cancer_type_model.compile(optimizer='adam', loss='categorical_crossentropy', metrics=['accuracy'])

status_history = status_model.fit(
    train_generator,
    epochs=20,
    validation_data=validation_generator,
    callbacks=[
        keras.callbacks.EarlyStopping(patience=5, restore_best_weights=True),
        keras.callbacks.ReduceLROnPlateau(factor=0.2, patience=3)
    ]
)

cancer_history = cancer_type_model.fit(
    cancer_train_generator,
    epochs=20,
    validation_data=cancer_validation_generator,
    callbacks=[
        keras.callbacks.EarlyStopping(patience=5, restore_best_weights=True),
        keras.callbacks.ReduceLROnPlateau(factor=0.2, patience=3)
    ]
)

status_val_loss, status_val_accuracy = status_model.evaluate(validation_generator)
print(f"Validation accuracy for status model: {status_val_accuracy*100:.2f}%")

cancer_val_loss, cancer_val_accuracy = cancer_type_model.evaluate(cancer_validation_generator)
print(f"Validation accuracy for cancer type model: {cancer_val_accuracy*100:.2f}%")

plt.figure(figsize=(12, 4))
plt.subplot(1, 2, 1)
plt.plot(status_history.history['accuracy'], label='Training Accuracy')
plt.plot(status_history.history['val_accuracy'], label='Validation Accuracy')
plt.title('Status Model Accuracy')
plt.legend()

plt.subplot(1, 2, 2)
plt.plot(status_history.history['loss'], label='Training Loss')
plt.plot(status_history.history['val_loss'], label='Validation Loss')
plt.title('Status Model Loss')
plt.legend()
plt.show()

status_model.save('/kaggle/working/status_model.keras')
cancer_type_model.save('/kaggle/working/Skin.keras')

val_pred = status_model.predict(validation_generator)
val_pred_classes = np.argmax(val_pred, axis=1)
val_true_classes = validation_generator.classes
cm = confusion_matrix(val_true_classes, val_pred_classes)
sns.heatmap(cm, annot=True, fmt='d', cmap='Blues')
plt.title('Confusion Matrix (Normal/Affected)')
plt.show()

print("Classification report for status model:")
print(classification_report(val_true_classes, val_pred_classes, target_names=list(train_generator.class_indices.keys())))